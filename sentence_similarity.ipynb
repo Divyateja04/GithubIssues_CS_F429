{
 "cells": [
  {
   "cell_type": "code",
   "execution_count": 2,
   "metadata": {},
   "outputs": [],
   "source": [
    "#importing SentenceTransformer\n",
    "from sentence_transformers import SentenceTransformer"
   ]
  },
  {
   "cell_type": "code",
   "execution_count": 31,
   "metadata": {},
   "outputs": [
    {
     "data": {
      "application/vnd.jupyter.widget-view+json": {
       "model_id": "6aa836365e6340b3906a3d107fe867c6",
       "version_major": 2,
       "version_minor": 0
      },
      "text/plain": [
       ".gitattributes:   0%|          | 0.00/1.18k [00:00<?, ?B/s]"
      ]
     },
     "metadata": {},
     "output_type": "display_data"
    },
    {
     "data": {
      "application/vnd.jupyter.widget-view+json": {
       "model_id": "5efb17af6eda4decb2b3b2d8e7377dda",
       "version_major": 2,
       "version_minor": 0
      },
      "text/plain": [
       "1_Pooling/config.json:   0%|          | 0.00/190 [00:00<?, ?B/s]"
      ]
     },
     "metadata": {},
     "output_type": "display_data"
    },
    {
     "data": {
      "application/vnd.jupyter.widget-view+json": {
       "model_id": "8b6901720a6b4a31973090d3b5eb23f8",
       "version_major": 2,
       "version_minor": 0
      },
      "text/plain": [
       "README.md:   0%|          | 0.00/10.6k [00:00<?, ?B/s]"
      ]
     },
     "metadata": {},
     "output_type": "display_data"
    },
    {
     "data": {
      "application/vnd.jupyter.widget-view+json": {
       "model_id": "5bf74bf5c3034fdeb0f59136b9fefa20",
       "version_major": 2,
       "version_minor": 0
      },
      "text/plain": [
       "config.json:   0%|          | 0.00/571 [00:00<?, ?B/s]"
      ]
     },
     "metadata": {},
     "output_type": "display_data"
    },
    {
     "data": {
      "application/vnd.jupyter.widget-view+json": {
       "model_id": "97f8f11d4e184b058fce429c200620ce",
       "version_major": 2,
       "version_minor": 0
      },
      "text/plain": [
       "config_sentence_transformers.json:   0%|          | 0.00/116 [00:00<?, ?B/s]"
      ]
     },
     "metadata": {},
     "output_type": "display_data"
    },
    {
     "data": {
      "application/vnd.jupyter.widget-view+json": {
       "model_id": "e034d78b442e4c688ae1cc6718379cc8",
       "version_major": 2,
       "version_minor": 0
      },
      "text/plain": [
       "data_config.json:   0%|          | 0.00/39.3k [00:00<?, ?B/s]"
      ]
     },
     "metadata": {},
     "output_type": "display_data"
    },
    {
     "data": {
      "application/vnd.jupyter.widget-view+json": {
       "model_id": "9102e0143e704bf8bdae5f366bc86623",
       "version_major": 2,
       "version_minor": 0
      },
      "text/plain": [
       "pytorch_model.bin:   0%|          | 0.00/438M [00:00<?, ?B/s]"
      ]
     },
     "metadata": {},
     "output_type": "display_data"
    },
    {
     "data": {
      "application/vnd.jupyter.widget-view+json": {
       "model_id": "8b9b7eda1ac843f591739a85b343bb7a",
       "version_major": 2,
       "version_minor": 0
      },
      "text/plain": [
       "sentence_bert_config.json:   0%|          | 0.00/53.0 [00:00<?, ?B/s]"
      ]
     },
     "metadata": {},
     "output_type": "display_data"
    },
    {
     "data": {
      "application/vnd.jupyter.widget-view+json": {
       "model_id": "2da7a7571242466db6d9d82f7ca60e1f",
       "version_major": 2,
       "version_minor": 0
      },
      "text/plain": [
       "special_tokens_map.json:   0%|          | 0.00/239 [00:00<?, ?B/s]"
      ]
     },
     "metadata": {},
     "output_type": "display_data"
    },
    {
     "data": {
      "application/vnd.jupyter.widget-view+json": {
       "model_id": "fa600d4988104fa8bcf752d47acfebd0",
       "version_major": 2,
       "version_minor": 0
      },
      "text/plain": [
       "tokenizer.json:   0%|          | 0.00/466k [00:00<?, ?B/s]"
      ]
     },
     "metadata": {},
     "output_type": "display_data"
    },
    {
     "data": {
      "application/vnd.jupyter.widget-view+json": {
       "model_id": "d50e57ba1e9848c3ae5808d1217e7d2a",
       "version_major": 2,
       "version_minor": 0
      },
      "text/plain": [
       "tokenizer_config.json:   0%|          | 0.00/363 [00:00<?, ?B/s]"
      ]
     },
     "metadata": {},
     "output_type": "display_data"
    },
    {
     "data": {
      "application/vnd.jupyter.widget-view+json": {
       "model_id": "98572301eaf440fb802de2eb72d95170",
       "version_major": 2,
       "version_minor": 0
      },
      "text/plain": [
       "train_script.py:   0%|          | 0.00/13.1k [00:00<?, ?B/s]"
      ]
     },
     "metadata": {},
     "output_type": "display_data"
    },
    {
     "data": {
      "application/vnd.jupyter.widget-view+json": {
       "model_id": "d14d8bd830b54c2b8a9fcbf0d905c49b",
       "version_major": 2,
       "version_minor": 0
      },
      "text/plain": [
       "vocab.txt:   0%|          | 0.00/232k [00:00<?, ?B/s]"
      ]
     },
     "metadata": {},
     "output_type": "display_data"
    },
    {
     "data": {
      "application/vnd.jupyter.widget-view+json": {
       "model_id": "ce96cecc29434a2da53800a55c6349de",
       "version_major": 2,
       "version_minor": 0
      },
      "text/plain": [
       "modules.json:   0%|          | 0.00/349 [00:00<?, ?B/s]"
      ]
     },
     "metadata": {},
     "output_type": "display_data"
    }
   ],
   "source": [
    "sentences = []\n",
    "model_name = 'sentence-transformers/all-mpnet-base-v2'\n",
    "model = SentenceTransformer(model_name)\n",
    "\n"
   ]
  },
  {
   "cell_type": "code",
   "execution_count": 41,
   "metadata": {},
   "outputs": [],
   "source": [
    "import json\n",
    "import os\n",
    "\n",
    "DATASET_LOCATION = \"./data/\"\n",
    "with open(os.path.join(DATASET_LOCATION, \"functions_per_file.json\"), \"r\") as f:\n",
    "    data = json.load(f)\n",
    "\n",
    "for file in data:\n",
    "    sentences.append(file[\"fileName\"][0:-3] + \", \"+ file[\"functions\"])"
   ]
  },
  {
   "cell_type": "code",
   "execution_count": 42,
   "metadata": {},
   "outputs": [],
   "source": [
    "sentence_vecs = model.encode(sentences)"
   ]
  },
  {
   "cell_type": "code",
   "execution_count": 43,
   "metadata": {},
   "outputs": [
    {
     "data": {
      "text/plain": [
       "(278, 768)"
      ]
     },
     "execution_count": 43,
     "metadata": {},
     "output_type": "execute_result"
    }
   ],
   "source": [
    "sentence_vecs.shape"
   ]
  },
  {
   "cell_type": "code",
   "execution_count": 40,
   "metadata": {},
   "outputs": [],
   "source": [
    "\n",
    "input_issue = r\"Fix URL used in Team.update_team_repository method.\"\n",
    "input_vec = model.encode(input_issue)"
   ]
  },
  {
   "cell_type": "code",
   "execution_count": 44,
   "metadata": {},
   "outputs": [],
   "source": [
    "from sklearn.metrics.pairwise import cosine_similarity"
   ]
  },
  {
   "cell_type": "code",
   "execution_count": 45,
   "metadata": {},
   "outputs": [],
   "source": [
    "cosineSimilarity = cosine_similarity(\n",
    "    input_vec.reshape(1, -1),\n",
    "    sentence_vecs\n",
    ")"
   ]
  },
  {
   "cell_type": "code",
   "execution_count": 46,
   "metadata": {},
   "outputs": [
    {
     "data": {
      "text/plain": [
       "(1, 278)"
      ]
     },
     "execution_count": 46,
     "metadata": {},
     "output_type": "execute_result"
    }
   ],
   "source": [
    "cosineSimilarity.shape"
   ]
  },
  {
   "cell_type": "code",
   "execution_count": 47,
   "metadata": {},
   "outputs": [
    {
     "data": {
      "text/plain": [
       "array([[ 1.20866463e-01,  1.89498082e-01,  1.90977156e-01,\n",
       "         2.04937011e-01,  2.37935111e-01,  3.02482277e-01,\n",
       "         1.65834919e-01,  2.05731943e-01,  1.88932285e-01,\n",
       "         2.62101799e-01,  2.67601639e-01,  1.62573695e-01,\n",
       "         2.17335373e-02,  4.17566262e-02,  1.98458463e-01,\n",
       "        -5.33701386e-04,  4.36751805e-02,  1.05796225e-01,\n",
       "         8.69274735e-02,  1.05603501e-01,  8.05678964e-02,\n",
       "         1.54514223e-01,  2.31550604e-01,  1.41457677e-01,\n",
       "        -9.31363404e-02,  6.26534075e-02,  1.19963586e-01,\n",
       "         1.34559022e-02,  1.48925141e-01,  4.29894254e-02,\n",
       "         2.68585265e-01,  2.33373240e-01,  8.41285512e-02,\n",
       "         1.41425222e-01,  4.88805883e-02,  2.11533785e-01,\n",
       "         2.07181364e-01,  1.62310228e-01,  1.22414775e-01,\n",
       "         1.60081625e-01,  1.38824508e-01,  1.73079431e-01,\n",
       "         1.55564204e-01,  1.61678657e-01,  1.93777606e-01,\n",
       "         2.28591949e-01,  2.49030441e-01,  2.14373022e-01,\n",
       "         2.71156639e-01,  3.73002917e-01,  2.38421753e-01,\n",
       "         1.95240960e-01,  2.08385751e-01,  2.28444174e-01,\n",
       "         3.07096601e-01,  1.61058158e-01,  2.01541767e-01,\n",
       "         1.59649253e-01,  1.19325899e-01,  2.06303149e-01,\n",
       "         2.00331762e-01,  1.46305129e-01,  2.69143730e-01,\n",
       "         5.76101616e-02,  6.08216375e-02, -6.66569825e-03,\n",
       "         1.88512743e-01, -2.16817483e-04,  3.17657143e-01,\n",
       "         3.01413953e-01,  2.00565353e-01,  2.24157378e-01,\n",
       "         2.13948503e-01,  1.58342853e-01,  4.50780600e-01,\n",
       "         2.05473043e-02,  1.04042299e-01,  2.49046549e-01,\n",
       "         1.12772144e-01,  2.36392319e-01,  1.33755043e-01,\n",
       "         3.65842074e-01,  2.22185329e-01,  2.67582655e-01,\n",
       "         1.77406847e-01,  3.51955831e-01,  3.45012337e-01,\n",
       "         3.48039359e-01, -4.03711274e-02,  5.47156334e-02,\n",
       "         1.11300305e-01,  2.81999350e-01,  1.21724218e-01,\n",
       "         1.12187162e-01,  1.41731650e-01,  1.07744932e-01,\n",
       "         2.10194692e-01,  2.11757883e-01,  2.09118307e-01,\n",
       "         2.86734819e-01,  2.28673548e-01, -7.36734048e-02,\n",
       "         3.57841402e-02, -4.11714194e-04,  8.92629698e-02,\n",
       "         2.49376059e-01,  2.58921802e-01,  3.76694888e-01,\n",
       "         2.27162749e-01,  3.63426208e-01,  3.33460122e-01,\n",
       "         2.97987580e-01,  4.27628607e-01,  9.69195664e-02,\n",
       "         1.51731580e-01,  2.22013205e-01,  1.49731398e-01,\n",
       "         1.25233307e-01,  2.47653008e-01,  4.78900187e-02,\n",
       "        -5.89840449e-02, -1.10280113e-02,  2.01397780e-02,\n",
       "         3.92183922e-02,  3.67593169e-02,  2.94048339e-01,\n",
       "         4.43525732e-01,  1.87431946e-01,  1.23673089e-01,\n",
       "         1.31047279e-01,  7.33984187e-02,  1.56894818e-01,\n",
       "         4.41817567e-02, -1.33479964e-02,  1.56119749e-01,\n",
       "         1.61522210e-01,  1.81179136e-01,  6.99267909e-02,\n",
       "         1.47008589e-02,  1.20866470e-01,  1.89498082e-01,\n",
       "         1.90977156e-01,  2.04937011e-01,  2.37935111e-01,\n",
       "         3.02482277e-01,  1.65834919e-01,  2.05731943e-01,\n",
       "         1.88932285e-01,  2.62101799e-01,  2.67601639e-01,\n",
       "         1.62573695e-01,  2.17335373e-02,  4.17566262e-02,\n",
       "         1.98458463e-01, -5.33701386e-04,  4.36751805e-02,\n",
       "         1.05796225e-01,  8.69274735e-02,  1.05603501e-01,\n",
       "         8.05678964e-02,  1.54514223e-01,  2.31550604e-01,\n",
       "         1.41457677e-01, -9.31363404e-02,  6.26534075e-02,\n",
       "         1.19963586e-01,  1.34559022e-02,  1.48925141e-01,\n",
       "         4.29894254e-02,  2.68585265e-01,  2.33373240e-01,\n",
       "         8.41285512e-02,  1.41425222e-01,  4.88805883e-02,\n",
       "         2.11533785e-01,  2.07181364e-01,  1.62310228e-01,\n",
       "         1.22414775e-01,  1.60081625e-01,  1.38824508e-01,\n",
       "         1.73079431e-01,  1.55564204e-01,  1.61678657e-01,\n",
       "         1.93777606e-01,  2.28591949e-01,  2.49030441e-01,\n",
       "         2.14373022e-01,  2.71156639e-01,  3.73002917e-01,\n",
       "         2.38421753e-01,  1.95240960e-01,  2.08385751e-01,\n",
       "         2.28444174e-01,  3.07096601e-01,  1.61058158e-01,\n",
       "         2.01541767e-01,  1.59649253e-01,  1.19325899e-01,\n",
       "         2.06303149e-01,  2.00331762e-01,  1.46305129e-01,\n",
       "         2.69143730e-01,  5.76101616e-02,  6.08216375e-02,\n",
       "        -6.66569825e-03,  1.88512743e-01, -2.16817483e-04,\n",
       "         3.17657173e-01,  3.01413953e-01,  2.00565353e-01,\n",
       "         2.24157378e-01,  2.13948503e-01,  1.58342853e-01,\n",
       "         4.50780600e-01,  2.05473043e-02,  1.04042299e-01,\n",
       "         2.49046549e-01,  1.12772144e-01,  2.36392319e-01,\n",
       "         1.33755043e-01,  3.65842074e-01,  2.22185329e-01,\n",
       "         2.67582655e-01,  1.77406847e-01,  3.51955831e-01,\n",
       "         3.45012337e-01,  3.48039359e-01, -4.03711274e-02,\n",
       "         5.47156334e-02,  1.11300305e-01,  2.81999350e-01,\n",
       "         1.21724218e-01,  1.12187162e-01,  1.41731650e-01,\n",
       "         1.07744932e-01,  2.10194692e-01,  2.11757883e-01,\n",
       "         2.09118307e-01,  2.86734819e-01,  2.28673548e-01,\n",
       "        -7.36734048e-02,  3.57841402e-02, -4.11714194e-04,\n",
       "         8.92629698e-02,  2.49376059e-01,  2.58921802e-01,\n",
       "         3.76694888e-01,  2.27162749e-01,  3.63426208e-01,\n",
       "         3.33460122e-01,  2.97987580e-01,  4.27628607e-01,\n",
       "         9.69195664e-02,  1.51731580e-01,  2.22013205e-01,\n",
       "         1.49731398e-01,  1.25233307e-01,  2.47653008e-01,\n",
       "         4.78900187e-02, -5.89840449e-02, -1.10280113e-02,\n",
       "         2.01397780e-02,  3.92183922e-02,  3.67593169e-02,\n",
       "         2.94048339e-01,  4.43525732e-01,  1.87431946e-01,\n",
       "         1.23673089e-01,  1.31047279e-01,  7.33984187e-02,\n",
       "         1.56894818e-01,  4.41817567e-02, -1.33479964e-02,\n",
       "         1.56119749e-01,  1.61522210e-01,  1.81179136e-01,\n",
       "         6.99267909e-02,  1.47008589e-02]], dtype=float32)"
      ]
     },
     "execution_count": 47,
     "metadata": {},
     "output_type": "execute_result"
    }
   ],
   "source": [
    "cosineSimilarity"
   ]
  },
  {
   "cell_type": "code",
   "execution_count": 48,
   "metadata": {},
   "outputs": [
    {
     "data": {
      "text/plain": [
       "{'fileName': 'IssuePullRequest.py',\n",
       " 'functions': 'diff_url, html_url, patch_url, _useAttributes, '}"
      ]
     },
     "execution_count": 48,
     "metadata": {},
     "output_type": "execute_result"
    }
   ],
   "source": [
    "data[cosineSimilarity.argmax()]"
   ]
  },
  {
   "cell_type": "code",
   "execution_count": null,
   "metadata": {},
   "outputs": [],
   "source": []
  }
 ],
 "metadata": {
  "kernelspec": {
   "display_name": "base",
   "language": "python",
   "name": "python3"
  },
  "language_info": {
   "codemirror_mode": {
    "name": "ipython",
    "version": 3
   },
   "file_extension": ".py",
   "mimetype": "text/x-python",
   "name": "python",
   "nbconvert_exporter": "python",
   "pygments_lexer": "ipython3",
   "version": "3.10.13"
  }
 },
 "nbformat": 4,
 "nbformat_minor": 2
}
