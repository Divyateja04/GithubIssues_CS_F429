{
 "cells": [
  {
   "cell_type": "code",
   "execution_count": 9,
   "metadata": {},
   "outputs": [],
   "source": [
    "#importing SentenceTransformer\n",
    "from sentence_transformers import SentenceTransformer"
   ]
  },
  {
   "cell_type": "code",
   "execution_count": 10,
   "metadata": {},
   "outputs": [],
   "source": [
    "model_name = 'sentence-transformers/all-mpnet-base-v2'\n",
    "model = SentenceTransformer(model_name)\n",
    "\n"
   ]
  },
  {
   "cell_type": "code",
   "execution_count": 11,
   "metadata": {},
   "outputs": [
    {
     "name": "stdout",
     "output_type": "stream",
     "text": [
      "139\n"
     ]
    }
   ],
   "source": [
    "import json\n",
    "import os\n",
    "\n",
    "DATASET_LOCATION = \"./data/\"\n",
    "with open(os.path.join(DATASET_LOCATION, \"functions_per_file(without _ ).json\"), \"r\") as f:\n",
    "    data = json.load(f)\n",
    "sentences = []\n",
    "functions = []\n",
    "print(len(data))\n",
    "for file in data:\n",
    "    sentences.append(file[\"fileName\"][0:-3] + \", \"+ file[\"functions\"])\n",
    "\n",
    "for file in data:\n",
    "    functions.append(file[\"fileName\"][0:-3])\n",
    "    for func in file[\"functions\"]:\n",
    "        functions.append(func)\n",
    "\n",
    "functionList = functions"
   ]
  },
  {
   "cell_type": "code",
   "execution_count": 13,
   "metadata": {},
   "outputs": [
    {
     "name": "stdout",
     "output_type": "stream",
     "text": [
      "functions = 28291\n"
     ]
    }
   ],
   "source": [
    "# print(\"sentences = \" + len(sentences))\n",
    "print(\"functions = \" + str(len(functions)))"
   ]
  },
  {
   "cell_type": "code",
   "execution_count": 14,
   "metadata": {},
   "outputs": [],
   "source": [
    "# sentence_vecs = model.encode(sentences)\n",
    "function_vecs = model.encode(functions)"
   ]
  },
  {
   "cell_type": "code",
   "execution_count": 16,
   "metadata": {},
   "outputs": [
    {
     "name": "stdout",
     "output_type": "stream",
     "text": [
      "functions = (28291, 768)\n"
     ]
    }
   ],
   "source": [
    "# print(\"sentences.shape = \" + sentence_vecs.shape)\n",
    "print(\"functions = \" + str(function_vecs.shape))"
   ]
  },
  {
   "cell_type": "code",
   "execution_count": 26,
   "metadata": {},
   "outputs": [],
   "source": [
    "\n",
    "# input_issue = r\"Fix used in Team update team repository method.\"\n",
    "input_issue = \"Fix URL used in Team.update_team_repository method\"\n",
    "input_vec = model.encode(input_issue)"
   ]
  },
  {
   "cell_type": "code",
   "execution_count": 27,
   "metadata": {},
   "outputs": [],
   "source": [
    "from sklearn.metrics.pairwise import cosine_similarity"
   ]
  },
  {
   "cell_type": "code",
   "execution_count": 28,
   "metadata": {},
   "outputs": [],
   "source": [
    "# cosineSimilarity = cosine_similarity(\n",
    "#     input_vec.reshape(1, -1),\n",
    "#     sentence_vecs\n",
    "# )"
   ]
  },
  {
   "cell_type": "code",
   "execution_count": 29,
   "metadata": {},
   "outputs": [],
   "source": [
    "cosineSimilarity = cosine_similarity(\n",
    "    input_vec.reshape(1, -1),\n",
    "    function_vecs\n",
    ")"
   ]
  },
  {
   "cell_type": "code",
   "execution_count": 30,
   "metadata": {},
   "outputs": [
    {
     "data": {
      "text/plain": [
       "(1, 28291)"
      ]
     },
     "execution_count": 30,
     "metadata": {},
     "output_type": "execute_result"
    }
   ],
   "source": [
    "cosineSimilarity.shape"
   ]
  },
  {
   "cell_type": "code",
   "execution_count": 31,
   "metadata": {},
   "outputs": [
    {
     "data": {
      "text/plain": [
       "array([[ 0.14334278,  0.10516397,  0.05666572, ...,  0.01414772,\n",
       "        -0.04249827, -0.00459837]], dtype=float32)"
      ]
     },
     "execution_count": 31,
     "metadata": {},
     "output_type": "execute_result"
    }
   ],
   "source": [
    "cosineSimilarity"
   ]
  },
  {
   "cell_type": "code",
   "execution_count": 32,
   "metadata": {},
   "outputs": [
    {
     "data": {
      "text/plain": [
       "'RepositoryPreferences'"
      ]
     },
     "execution_count": 32,
     "metadata": {},
     "output_type": "execute_result"
    }
   ],
   "source": [
    "functionList[cosineSimilarity.argmax()]"
   ]
  },
  {
   "cell_type": "code",
   "execution_count": null,
   "metadata": {},
   "outputs": [],
   "source": []
  }
 ],
 "metadata": {
  "kernelspec": {
   "display_name": "base",
   "language": "python",
   "name": "python3"
  },
  "language_info": {
   "codemirror_mode": {
    "name": "ipython",
    "version": 3
   },
   "file_extension": ".py",
   "mimetype": "text/x-python",
   "name": "python",
   "nbconvert_exporter": "python",
   "pygments_lexer": "ipython3",
   "version": "3.10.13"
  }
 },
 "nbformat": 4,
 "nbformat_minor": 2
}
