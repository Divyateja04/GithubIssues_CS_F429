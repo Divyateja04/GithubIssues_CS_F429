{
 "cells": [
  {
   "cell_type": "code",
   "execution_count": 1,
   "metadata": {},
   "outputs": [],
   "source": [
    "#importing SentenceTransformer\n",
    "from sentence_transformers import SentenceTransformer"
   ]
  },
  {
   "cell_type": "code",
   "execution_count": 2,
   "metadata": {},
   "outputs": [],
   "source": [
    "model_name = 'sentence-transformers/all-mpnet-base-v2'\n",
    "model = SentenceTransformer(model_name)\n",
    "\n"
   ]
  },
  {
   "cell_type": "code",
   "execution_count": 3,
   "metadata": {},
   "outputs": [
    {
     "name": "stdout",
     "output_type": "stream",
     "text": [
      "139\n"
     ]
    }
   ],
   "source": [
    "import json\n",
    "import os\n",
    "\n",
    "DATASET_LOCATION = \"./data/\"\n",
    "with open(os.path.join(DATASET_LOCATION, \"functions_per_file(without _ ).json\"), \"r\") as f:\n",
    "    data = json.load(f)\n",
    "sentences = []\n",
    "print(len(data))\n",
    "for file in data:\n",
    "    sentences.append(file[\"fileName\"][0:-3] + \", \"+ file[\"functions\"])"
   ]
  },
  {
   "cell_type": "code",
   "execution_count": 4,
   "metadata": {},
   "outputs": [
    {
     "data": {
      "text/plain": [
       "139"
      ]
     },
     "execution_count": 4,
     "metadata": {},
     "output_type": "execute_result"
    }
   ],
   "source": [
    "len(sentences)"
   ]
  },
  {
   "cell_type": "code",
   "execution_count": 5,
   "metadata": {},
   "outputs": [],
   "source": [
    "sentence_vecs = model.encode(sentences)"
   ]
  },
  {
   "cell_type": "code",
   "execution_count": 6,
   "metadata": {},
   "outputs": [
    {
     "data": {
      "text/plain": [
       "(139, 768)"
      ]
     },
     "execution_count": 6,
     "metadata": {},
     "output_type": "execute_result"
    }
   ],
   "source": [
    "sentence_vecs.shape"
   ]
  },
  {
   "cell_type": "code",
   "execution_count": 7,
   "metadata": {},
   "outputs": [],
   "source": [
    "\n",
    "# input_issue = r\"Fix used in Team update team repository method.\"\n",
    "input_issue = \"PullRequest.is_merged does not handle token expiration\"\n",
    "input_vec = model.encode(input_issue)"
   ]
  },
  {
   "cell_type": "code",
   "execution_count": 8,
   "metadata": {},
   "outputs": [],
   "source": [
    "from sklearn.metrics.pairwise import cosine_similarity"
   ]
  },
  {
   "cell_type": "code",
   "execution_count": 9,
   "metadata": {},
   "outputs": [],
   "source": [
    "cosineSimilarity = cosine_similarity(\n",
    "    input_vec.reshape(1, -1),\n",
    "    sentence_vecs\n",
    ")"
   ]
  },
  {
   "cell_type": "code",
   "execution_count": 10,
   "metadata": {},
   "outputs": [
    {
     "data": {
      "text/plain": [
       "(1, 139)"
      ]
     },
     "execution_count": 10,
     "metadata": {},
     "output_type": "execute_result"
    }
   ],
   "source": [
    "cosineSimilarity.shape"
   ]
  },
  {
   "cell_type": "code",
   "execution_count": 11,
   "metadata": {},
   "outputs": [
    {
     "data": {
      "text/plain": [
       "array([[ 3.05707186e-01,  2.07067668e-01,  1.45369768e-01,\n",
       "         4.95173261e-02,  2.20967814e-01,  1.34399563e-01,\n",
       "         1.10177554e-01,  1.17140539e-01, -2.94632814e-03,\n",
       "         1.67516857e-01,  1.66343004e-01,  3.29592377e-02,\n",
       "        -8.97272974e-02, -1.03851803e-01,  9.08222347e-02,\n",
       "        -1.28484461e-02, -7.43841082e-02, -6.57246932e-02,\n",
       "        -9.44561511e-02, -9.56116393e-02, -1.03523038e-01,\n",
       "         2.04359889e-02,  1.11586787e-01, -2.57758657e-04,\n",
       "        -6.90748170e-02,  2.05090884e-02,  3.53018641e-02,\n",
       "         7.46223778e-02, -3.80267426e-02, -8.18190649e-02,\n",
       "         5.12223393e-02, -1.62119810e-02, -4.50864621e-03,\n",
       "         1.22105815e-02, -6.35255948e-02, -5.93213439e-02,\n",
       "         8.49876031e-02,  3.99831869e-02, -5.66099398e-02,\n",
       "         2.35705078e-02, -5.33542857e-02,  6.79825470e-02,\n",
       "         4.17172797e-02, -7.15055130e-03,  5.43536209e-02,\n",
       "         1.73649773e-01,  9.93944407e-02,  7.09621236e-02,\n",
       "         6.41456023e-02,  2.63340741e-01,  1.29544735e-01,\n",
       "         1.73080623e-01,  1.59477800e-01,  5.83919138e-02,\n",
       "         1.32693246e-01, -6.60621002e-03,  3.97774056e-02,\n",
       "         3.52846608e-02,  2.17749700e-02,  1.53163642e-01,\n",
       "         5.51672056e-02,  1.64965820e-03,  1.34456441e-01,\n",
       "        -3.29933763e-02,  4.28377390e-02,  2.26089470e-02,\n",
       "         1.90488309e-01,  3.02248187e-02, -6.26120437e-03,\n",
       "         1.73710257e-01,  3.79420742e-02,  7.03331754e-02,\n",
       "        -4.97462344e-04,  2.78361775e-02,  1.41519487e-01,\n",
       "        -1.22078493e-01, -7.55393580e-02,  8.57198760e-02,\n",
       "        -4.55882475e-02,  1.20263062e-01,  2.79458966e-02,\n",
       "         7.25794509e-02,  3.38342972e-02,  2.36126140e-01,\n",
       "         1.74151778e-01,  8.42223391e-02,  5.91521412e-02,\n",
       "         5.50190695e-02, -1.93708837e-02, -1.13033511e-01,\n",
       "         1.00853853e-02,  2.17280295e-02, -1.31276056e-01,\n",
       "        -6.67426065e-02, -7.09860623e-02, -4.06425558e-02,\n",
       "         2.07790673e-01,  2.88453519e-01,  5.93381464e-01,\n",
       "         3.32133442e-01,  3.29076022e-01,  1.17094424e-02,\n",
       "         1.17200576e-01, -4.35250811e-03, -3.17574665e-02,\n",
       "         1.46190435e-01,  5.24373143e-04,  1.52939856e-01,\n",
       "         5.15285395e-02,  7.11680651e-02,  5.09506613e-02,\n",
       "         8.04379806e-02,  9.86602977e-02,  9.03239250e-02,\n",
       "         8.31340551e-02,  7.16452375e-02,  1.76885221e-02,\n",
       "         6.50535524e-02, -1.05313249e-02, -3.58354449e-02,\n",
       "        -3.11131831e-02, -9.52085759e-03, -8.62192437e-02,\n",
       "        -2.14153305e-02,  6.92629293e-02,  4.53341603e-02,\n",
       "         4.54860441e-02, -3.81713398e-02,  4.23310250e-02,\n",
       "         3.94902118e-02, -8.62629935e-02,  6.02966510e-02,\n",
       "        -9.78604183e-02, -5.44963442e-02,  4.30046283e-02,\n",
       "        -6.16202410e-03,  6.48443401e-02,  2.78777089e-02,\n",
       "        -3.96516509e-02]], dtype=float32)"
      ]
     },
     "execution_count": 11,
     "metadata": {},
     "output_type": "execute_result"
    }
   ],
   "source": [
    "cosineSimilarity"
   ]
  },
  {
   "cell_type": "code",
   "execution_count": 12,
   "metadata": {},
   "outputs": [
    {
     "data": {
      "text/plain": [
       "{'fileName': 'PullRequestMergeStatus.py',\n",
       " 'functions': 'merged,  message,  sha,   use Attributes'}"
      ]
     },
     "execution_count": 12,
     "metadata": {},
     "output_type": "execute_result"
    }
   ],
   "source": [
    "data[cosineSimilarity.argmax()]"
   ]
  },
  {
   "cell_type": "code",
   "execution_count": null,
   "metadata": {},
   "outputs": [],
   "source": []
  }
 ],
 "metadata": {
  "kernelspec": {
   "display_name": "base",
   "language": "python",
   "name": "python3"
  },
  "language_info": {
   "codemirror_mode": {
    "name": "ipython",
    "version": 3
   },
   "file_extension": ".py",
   "mimetype": "text/x-python",
   "name": "python",
   "nbconvert_exporter": "python",
   "pygments_lexer": "ipython3",
   "version": "3.10.13"
  }
 },
 "nbformat": 4,
 "nbformat_minor": 2
}
