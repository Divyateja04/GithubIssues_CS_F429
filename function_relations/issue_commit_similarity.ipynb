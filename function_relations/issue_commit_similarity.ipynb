{
 "cells": [
  {
   "cell_type": "code",
   "execution_count": 1,
   "id": "6754c614",
   "metadata": {},
   "outputs": [],
   "source": [
    "from sentence_transformers import SentenceTransformer\n",
    "import json\n",
    "import os\n",
    "from sklearn.metrics.pairwise import cosine_similarity\n"
   ]
  },
  {
   "cell_type": "code",
   "execution_count": 2,
   "metadata": {},
   "outputs": [],
   "source": [
    "# see which model to use\n",
    "model_name = 'sentence-transformers/all-mpnet-base-v2'\n",
    "model = SentenceTransformer(model_name)"
   ]
  },
  {
   "cell_type": "code",
   "execution_count": 6,
   "metadata": {},
   "outputs": [],
   "source": [
    "DATASET_LOCATION = \"../data/\"\n",
    "with open(os.path.join(DATASET_LOCATION, \"commits.json\"), \"r\") as f:\n",
    "    commit_data = json.load(f)\n",
    "with open(os.path.join(DATASET_LOCATION, \"issues.json\"), \"r\") as f:\n",
    "    issue_data = json.load(f)"
   ]
  },
  {
   "cell_type": "code",
   "execution_count": 8,
   "metadata": {},
   "outputs": [],
   "source": [
    "commit_sentences = []\n",
    "issue_sentences = []\n",
    "\n",
    "for commit_obj in commit_data:\n",
    "    commit_sentences.append(commit_obj[\"commit\"])\n",
    "\n",
    "for issue_obj in issue_data:\n",
    "    if(issue_obj[\"body\"] !=None):\n",
    "        issue_sentences.append(issue_obj[\"title\"]+\" \"+issue_obj[\"body\"])\n",
    "    else:\n",
    "        issue_sentences.append(issue_obj[\"title\"])\n"
   ]
  },
  {
   "cell_type": "code",
   "execution_count": 12,
   "metadata": {},
   "outputs": [
    {
     "name": "stdout",
     "output_type": "stream",
     "text": [
      "2196 274\n"
     ]
    }
   ],
   "source": [
    "print(len(commit_sentences),len(issue_sentences))"
   ]
  },
  {
   "cell_type": "code",
   "execution_count": 13,
   "metadata": {},
   "outputs": [],
   "source": [
    "\n",
    "issue_embeddings =  model.encode(issue_sentences)\n"
   ]
  },
  {
   "cell_type": "code",
   "execution_count": 14,
   "metadata": {},
   "outputs": [],
   "source": [
    "commit_embeddings =  model.encode(commit_sentences)"
   ]
  },
  {
   "cell_type": "code",
   "execution_count": 26,
   "metadata": {},
   "outputs": [],
   "source": [
    "result_obj = {}\n",
    "corr = cosine_similarity(issue_embeddings,commit_embeddings)\n",
    "for i in range(len(issue_embeddings)):\n",
    "    issue = issue_sentences[i]\n",
    "    result_obj[issue] = {}\n",
    "    for j in range(len(commit_embeddings)):\n",
    "        commit =  commit_sentences[j]\n",
    "        result_obj[issue][commit] = str(corr[i][j])\n"
   ]
  },
  {
   "cell_type": "code",
   "execution_count": 28,
   "metadata": {},
   "outputs": [
    {
     "data": {
      "text/plain": [
       "array([[ 1.7806265e-01,  1.5512379e-01,  1.8297099e-01, ...,\n",
       "         1.2196938e-01,  1.3470286e-01,  2.1449994e-02],\n",
       "       [ 2.3876302e-01,  2.8768498e-01,  2.4566457e-01, ...,\n",
       "         1.6324857e-01, -6.5639354e-03,  6.8825044e-02],\n",
       "       [ 3.6080176e-01,  1.4636503e-01,  2.3723969e-01, ...,\n",
       "         2.6378021e-01,  3.5880152e-02,  4.5071065e-02],\n",
       "       ...,\n",
       "       [ 3.0068722e-01,  1.1551815e-01,  2.4902582e-01, ...,\n",
       "         3.3448905e-01, -1.9292101e-02, -7.5622927e-03],\n",
       "       [ 2.8679109e-01,  1.5653782e-01,  1.4433992e-01, ...,\n",
       "         2.9501578e-01,  6.6696182e-02,  1.4214226e-02],\n",
       "       [ 2.4157140e-01,  1.8778610e-01,  3.7034312e-01, ...,\n",
       "         3.4054130e-01,  8.5204635e-03,  3.3092313e-04]], dtype=float32)"
      ]
     },
     "execution_count": 28,
     "metadata": {},
     "output_type": "execute_result"
    }
   ],
   "source": [
    "corr"
   ]
  },
  {
   "cell_type": "code",
   "execution_count": 27,
   "metadata": {},
   "outputs": [],
   "source": [
    "# with open('corr_issue_commit.json', 'w') as f:\n",
    "#     json.dump(result_obj, f, indent=4)"
   ]
  },
  {
   "cell_type": "code",
   "execution_count": 36,
   "metadata": {},
   "outputs": [],
   "source": [
    "import numpy as np"
   ]
  },
  {
   "cell_type": "code",
   "execution_count": 70,
   "metadata": {},
   "outputs": [],
   "source": [
    "def get_n_related_commits(issue,n):\n",
    "    \n",
    "    issue_embedding = model.encode([issue])\n",
    "    cosine = cosine_similarity(issue_embedding,commit_embeddings)\n",
    "    \n",
    "    ind = np.argpartition(cosine[0], -n)[-n:]\n",
    "    ans=[]\n",
    "    for i in ind:\n",
    "        # print(i)\n",
    "        ans.append(commit_sentences[int(i)])\n",
    "    return ans"
   ]
  },
  {
   "cell_type": "code",
   "execution_count": 71,
   "metadata": {},
   "outputs": [
    {
     "data": {
      "text/plain": [
       "[\"Populates Issue's repository from URL when not in response.\",\n",
       " 'fix repository',\n",
       " 'RepositoryKey: first step',\n",
       " 'Repository docstring',\n",
       " 'Repository',\n",
       " 'Repository.xxx_download',\n",
       " 'Repository.edit',\n",
       " 'RepositoryDetails',\n",
       " 'Repository issues',\n",
       " 'RepositoryKeys']"
      ]
     },
     "execution_count": 71,
     "metadata": {},
     "output_type": "execute_result"
    }
   ],
   "source": [
    "get_n_related_commits(\"repository url\",10)"
   ]
  }
 ],
 "metadata": {
  "kernelspec": {
   "display_name": "Python 3 (ipykernel)",
   "language": "python",
   "name": "python3"
  },
  "language_info": {
   "codemirror_mode": {
    "name": "ipython",
    "version": 3
   },
   "file_extension": ".py",
   "mimetype": "text/x-python",
   "name": "python",
   "nbconvert_exporter": "python",
   "pygments_lexer": "ipython3",
   "version": "3.9.12"
  }
 },
 "nbformat": 4,
 "nbformat_minor": 5
}
