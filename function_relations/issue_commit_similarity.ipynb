{
 "cells": [
  {
   "cell_type": "code",
   "execution_count": 1,
   "id": "6754c614",
   "metadata": {},
   "outputs": [],
   "source": [
    "from sentence_transformers import SentenceTransformer\n",
    "import json\n",
    "import os\n",
    "from sklearn.metrics.pairwise import cosine_similarity\n"
   ]
  },
  {
   "cell_type": "code",
   "execution_count": 2,
   "metadata": {},
   "outputs": [],
   "source": [
    "# see which model to use\n",
    "model_name = 'sentence-transformers/all-mpnet-base-v2'\n",
    "model = SentenceTransformer(model_name)"
   ]
  },
  {
   "cell_type": "code",
   "execution_count": 6,
   "metadata": {},
   "outputs": [],
   "source": [
    "DATASET_LOCATION = \"../data/\"\n",
    "with open(os.path.join(DATASET_LOCATION, \"commits.json\"), \"r\") as f:\n",
    "    commit_data = json.load(f)\n",
    "with open(os.path.join(DATASET_LOCATION, \"issues.json\"), \"r\") as f:\n",
    "    issue_data = json.load(f)"
   ]
  },
  {
   "cell_type": "code",
   "execution_count": 8,
   "metadata": {},
   "outputs": [],
   "source": [
    "commit_sentences = []\n",
    "issue_sentences = []\n",
    "\n",
    "for commit_obj in commit_data:\n",
    "    commit_sentences.append(commit_obj[\"commit\"])\n",
    "\n",
    "for issue_obj in issue_data:\n",
    "    if(issue_obj[\"body\"] !=None):\n",
    "        issue_sentences.append(issue_obj[\"title\"]+\" \"+issue_obj[\"body\"])\n",
    "    else:\n",
    "        issue_sentences.append(issue_obj[\"title\"])\n"
   ]
  },
  {
   "cell_type": "code",
   "execution_count": 12,
   "metadata": {},
   "outputs": [
    {
     "name": "stdout",
     "output_type": "stream",
     "text": [
      "2196 274\n"
     ]
    }
   ],
   "source": [
    "print(len(commit_sentences),len(issue_sentences))"
   ]
  },
  {
   "cell_type": "code",
   "execution_count": 13,
   "metadata": {},
   "outputs": [],
   "source": [
    "\n",
    "issue_embeddings =  model.encode(issue_sentences)\n"
   ]
  },
  {
   "cell_type": "code",
   "execution_count": 14,
   "metadata": {},
   "outputs": [],
   "source": [
    "commit_embeddings =  model.encode(commit_sentences)"
   ]
  },
  {
   "cell_type": "code",
   "execution_count": 26,
   "metadata": {},
   "outputs": [],
   "source": [
    "result_obj = {}\n",
    "corr = cosine_similarity(issue_embeddings,commit_embeddings)\n",
    "for i in range(len(issue_embeddings)):\n",
    "    issue = issue_sentences[i]\n",
    "    result_obj[issue] = {}\n",
    "    for j in range(len(commit_embeddings)):\n",
    "        commit =  commit_sentences[j]\n",
    "        result_obj[issue][commit] = str(corr[i][j])\n"
   ]
  },
  {
   "cell_type": "code",
   "execution_count": 27,
   "metadata": {},
   "outputs": [],
   "source": [
    "with open('corr_issue_commit.json', 'w') as f:\n",
    "    json.dump(result_obj, f, indent=4)"
   ]
  }
 ],
 "metadata": {
  "kernelspec": {
   "display_name": "Python 3 (ipykernel)",
   "language": "python",
   "name": "python3"
  },
  "language_info": {
   "codemirror_mode": {
    "name": "ipython",
    "version": 3
   },
   "file_extension": ".py",
   "mimetype": "text/x-python",
   "name": "python",
   "nbconvert_exporter": "python",
   "pygments_lexer": "ipython3",
   "version": "3.9.12"
  }
 },
 "nbformat": 4,
 "nbformat_minor": 5
}
